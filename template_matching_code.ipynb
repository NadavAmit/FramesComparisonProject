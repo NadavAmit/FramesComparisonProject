{
  "cells": [
    {
      "cell_type": "code",
      "execution_count": null,
      "metadata": {
        "id": "xSGrbzDrLLbo"
      },
      "outputs": [],
      "source": [
        "import cv2\n",
        "import numpy as np\n",
        "from google.colab.patches import cv2_imshow\n",
        "import pandas as pd\n",
        "from skimage.metrics import mean_squared_error"
      ]
    },
    {
      "cell_type": "code",
      "execution_count": null,
      "metadata": {
        "id": "WTnEKVdvT2lf"
      },
      "outputs": [],
      "source": [
        "\n",
        "defined_rows_num = 20\n",
        "defined_cols_num = 20\n",
        "\n",
        "\n",
        "def split_image(image):\n",
        "    height, width = image.shape[:2]\n",
        "\n",
        "    frame_height = height // defined_rows_num\n",
        "    frame_width = width // defined_cols_num\n",
        "\n",
        "    frames = []\n",
        "\n",
        "    for r in range(defined_rows_num):\n",
        "        for c in range(defined_cols_num):\n",
        "            start_row = r * frame_height\n",
        "            end_row = start_row + frame_height\n",
        "            start_col = c * frame_width\n",
        "            end_col = start_col + frame_width\n",
        "\n",
        "            frame = image[start_row:end_row, start_col:end_col]\n",
        "            frames.append(frame)\n",
        "\n",
        "    return frames\n"
      ]
    },
    {
      "cell_type": "code",
      "execution_count": null,
      "metadata": {
        "id": "zuW3_sKKbfr5"
      },
      "outputs": [],
      "source": [
        "\n",
        "def reconstruct_image(frames, rows, cols):\n",
        "    frame_height, frame_width = frames[0].shape[:2]\n",
        "    height = rows * frame_height\n",
        "    width = cols * frame_width\n",
        "\n",
        "    image = np.zeros((height, width, 3), dtype=np.uint8)\n",
        "\n",
        "    for i, frame in enumerate(frames):\n",
        "        r = i // cols\n",
        "        c = i % cols\n",
        "        start_row = r * frame_height\n",
        "        end_row = start_row + frame_height\n",
        "        start_col = c * frame_width\n",
        "        end_col = start_col + frame_width\n",
        "        image[start_row:end_row, start_col:end_col] = frame\n",
        "\n",
        "    return image\n"
      ]
    },
    {
      "cell_type": "code",
      "execution_count": null,
      "metadata": {
        "id": "uWUAi2L0G3Na"
      },
      "outputs": [],
      "source": [
        "\n",
        "def template_matching(frame, templates):\n",
        "    frame_gray = cv2.cvtColor(frame, cv2.COLOR_BGR2GRAY)\n",
        "    templates_gray = []\n",
        "\n",
        "\n",
        "    for template in templates:\n",
        "        gray_template = cv2.cvtColor(template, cv2.COLOR_BGR2GRAY)\n",
        "        templates_gray.append(gray_template)\n",
        "\n",
        "    similarity_scores = []\n",
        "    similarity_locations = []\n",
        "    equivalent_templates = []\n",
        "\n",
        "    for template in templates_gray:\n",
        "        w, h = template.shape[:2]\n",
        "        result = cv2.matchTemplate(frame_gray, template, cv2.TM_CCOEFF_NORMED)\n",
        "        _, max_similarity_val, _, max_similarity_loc = cv2.minMaxLoc(result)\n",
        "        similarity_scores.append(max_similarity_val)\n",
        "        similarity_locations.append(max_similarity_loc)\n",
        "        img = frame[max_similarity_loc[1]:max_similarity_loc[1] + w, max_similarity_loc[0]:max_similarity_loc[0] + h]\n",
        "        equivalent_templates.append(img)\n",
        "\n",
        "    return similarity_scores , similarity_locations , equivalent_templates\n"
      ]
    },
    {
      "cell_type": "markdown",
      "metadata": {
        "id": "1oi1T6b_S_4h"
      },
      "source": [
        "## Main\n"
      ]
    },
    {
      "cell_type": "code",
      "execution_count": null,
      "metadata": {
        "id": "NNJvi0b1G6dM"
      },
      "outputs": [],
      "source": [
        "frame = cv2.imread('/content/pic3-dog.jpeg') # Image #1 path\n",
        "template = cv2.imread('/content/transformed_2.png') # Image #2 path\n",
        "templates = split_image(template)\n",
        "frames_for_reconstruct = split_image(frame)\n",
        "reconstructed_image = reconstruct_image(frames_for_reconstruct, defined_rows_num, defined_cols_num)\n",
        "\n",
        "similarity_scores , similarity_locations , equivalent_templates = template_matching(reconstructed_image, templates)\n",
        "\n"
      ]
    },
    {
      "cell_type": "markdown",
      "metadata": {
        "id": "k98LP-axvxlX"
      },
      "source": [
        "###### Example for a template and it's matching (equivalent) template"
      ]
    },
    {
      "cell_type": "code",
      "execution_count": null,
      "metadata": {
        "colab": {
          "base_uri": "https://localhost:8080/",
          "height": 212
        },
        "id": "lyPF9pv7aDR3",
        "outputId": "bf4fa732-2bcb-4c45-8017-4c16a76b8f58"
      },
      "outputs": [
        {
          "output_type": "display_data",
          "data": {
            "text/plain": [
              "<PIL.Image.Image image mode=RGB size=96x54>"
            ],
            "image/png": "[encoded data removed]"
          },
          "metadata": {}
        },
        {
          "output_type": "stream",
          "name": "stdout",
          "text": [
            "(3, 96, 54)\n",
            "\n"
          ]
        },
        {
          "output_type": "display_data",
          "data": {
            "text/plain": [
              "<PIL.Image.Image image mode=RGB size=96x54>"
            ],
            "image/png": "[encoded data removed]"
          },
          "metadata": {}
        },
        {
          "output_type": "stream",
          "name": "stdout",
          "text": [
            "(3, 96, 54)\n",
            "\n",
            "similarity score: 0.628\n"
          ]
        }
      ],
      "source": [
        "cv2_imshow(templates[22])\n",
        "print(templates[22].shape[::-1])\n",
        "print()\n",
        "cv2_imshow(equivalent_templates[22])\n",
        "print(equivalent_templates[22].shape[::-1])\n",
        "print()\n",
        "print(f\"similarity score: {round(similarity_scores[22], 3)}\")"
      ]
    },
    {
      "cell_type": "markdown",
      "metadata": {
        "id": "RRUMSH5YTKsJ"
      },
      "source": [
        "### calculating the distance\n"
      ]
    },
    {
      "cell_type": "code",
      "execution_count": null,
      "metadata": {
        "id": "a8VX7J2nTJ-w"
      },
      "outputs": [],
      "source": [
        "mse_distance = []\n",
        "\n",
        "for i in range(len(templates)):\n",
        "  mse = np.sqrt(((templates[i] - equivalent_templates[i]) ** 2).mean())\n",
        "  mse_distance.append(mse)\n",
        "\n",
        "distance_df = pd.DataFrame(mse_distance)\n",
        "\n",
        "min_value = distance_df.min()[0]\n",
        "max_value = distance_df.max()[0]\n",
        "\n",
        "if max_value != min_value:\n",
        "  normalized_distance_df = (distance_df - min_value) / (max_value - min_value)\n",
        "else:\n",
        "  normalized_distance_df = distance_df\n",
        "normalized_distance_score = round(normalized_distance_df.mean()[0], 3)"
      ]
    },
    {
      "cell_type": "code",
      "execution_count": null,
      "metadata": {
        "colab": {
          "base_uri": "https://localhost:8080/"
        },
        "id": "L695guhXLE0S",
        "outputId": "1c786f8e-f97e-49c6-e0fa-988482a091c7"
      },
      "outputs": [
        {
          "output_type": "stream",
          "name": "stdout",
          "text": [
            "Case 1 - mean similarity score: 0.68 (68.0%)\n",
            "\n",
            "Case 2 - normalized mean distance score: 0.619 \n",
            "\n"
          ]
        }
      ],
      "source": [
        "similarity_df = pd.DataFrame(similarity_scores)\n",
        "similarity_score = round(similarity_df.mean()[0], 3)\n",
        "print(f\"Case 1 - mean similarity score: {similarity_score} ({similarity_score * 100}%)\\n\")\n",
        "\n",
        "print(f\"Case 2 - normalized mean distance score: {normalized_distance_score} \\n\")\n"
      ]
    }
  ],
  "metadata": {
    "colab": {
      "provenance": []
    },
    "kernelspec": {
      "display_name": "Python 3",
      "name": "python3"
    },
    "language_info": {
      "name": "python"
    }
  },
  "nbformat": 4,
  "nbformat_minor": 0
}